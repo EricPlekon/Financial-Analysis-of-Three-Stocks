{
 "cells": [
  {
   "cell_type": "code",
   "execution_count": 1,
   "id": "74b163cb",
   "metadata": {},
   "outputs": [],
   "source": [
    "import pandas as pd"
   ]
  },
  {
   "cell_type": "code",
   "execution_count": 2,
   "id": "514dd1f9",
   "metadata": {},
   "outputs": [],
   "source": [
    "df = pd.read_csv('finance_data.csv')"
   ]
  },
  {
   "cell_type": "code",
   "execution_count": 15,
   "id": "fa7024ee",
   "metadata": {},
   "outputs": [
    {
     "data": {
      "text/html": [
       "<div>\n",
       "<style scoped>\n",
       "    .dataframe tbody tr th:only-of-type {\n",
       "        vertical-align: middle;\n",
       "    }\n",
       "\n",
       "    .dataframe tbody tr th {\n",
       "        vertical-align: top;\n",
       "    }\n",
       "\n",
       "    .dataframe thead th {\n",
       "        text-align: right;\n",
       "    }\n",
       "</style>\n",
       "<table border=\"1\" class=\"dataframe\">\n",
       "  <thead>\n",
       "    <tr style=\"text-align: right;\">\n",
       "      <th></th>\n",
       "      <th>Company</th>\n",
       "      <th>Symbol</th>\n",
       "      <th>Year</th>\n",
       "      <th>Total Assets</th>\n",
       "      <th>Total Liabilities</th>\n",
       "      <th>Total Revenue</th>\n",
       "      <th>Net Income</th>\n",
       "      <th>Gross Profit</th>\n",
       "    </tr>\n",
       "  </thead>\n",
       "  <tbody>\n",
       "    <tr>\n",
       "      <th>0</th>\n",
       "      <td>Tesla</td>\n",
       "      <td>TSLA</td>\n",
       "      <td>2023</td>\n",
       "      <td>106618</td>\n",
       "      <td>43009</td>\n",
       "      <td>96773</td>\n",
       "      <td>14974</td>\n",
       "      <td>17660</td>\n",
       "    </tr>\n",
       "    <tr>\n",
       "      <th>1</th>\n",
       "      <td>Tesla</td>\n",
       "      <td>TSLA</td>\n",
       "      <td>2022</td>\n",
       "      <td>82338</td>\n",
       "      <td>36440</td>\n",
       "      <td>81462</td>\n",
       "      <td>12587</td>\n",
       "      <td>17660</td>\n",
       "    </tr>\n",
       "    <tr>\n",
       "      <th>2</th>\n",
       "      <td>Tesla</td>\n",
       "      <td>TSLA</td>\n",
       "      <td>2021</td>\n",
       "      <td>62131</td>\n",
       "      <td>30548</td>\n",
       "      <td>53823</td>\n",
       "      <td>5644</td>\n",
       "      <td>13606</td>\n",
       "    </tr>\n",
       "    <tr>\n",
       "      <th>3</th>\n",
       "      <td>Microsoft</td>\n",
       "      <td>MSFT</td>\n",
       "      <td>2023</td>\n",
       "      <td>411976</td>\n",
       "      <td>205753</td>\n",
       "      <td>211915</td>\n",
       "      <td>72361</td>\n",
       "      <td>27195</td>\n",
       "    </tr>\n",
       "    <tr>\n",
       "      <th>4</th>\n",
       "      <td>Microsoft</td>\n",
       "      <td>MSFT</td>\n",
       "      <td>2022</td>\n",
       "      <td>364840</td>\n",
       "      <td>198298</td>\n",
       "      <td>198270</td>\n",
       "      <td>72738</td>\n",
       "      <td>24512</td>\n",
       "    </tr>\n",
       "    <tr>\n",
       "      <th>5</th>\n",
       "      <td>Microsoft</td>\n",
       "      <td>MSFT</td>\n",
       "      <td>2021</td>\n",
       "      <td>333779</td>\n",
       "      <td>191791</td>\n",
       "      <td>168088</td>\n",
       "      <td>61271</td>\n",
       "      <td>20716</td>\n",
       "    </tr>\n",
       "    <tr>\n",
       "      <th>6</th>\n",
       "      <td>Apple</td>\n",
       "      <td>AAPL</td>\n",
       "      <td>2023</td>\n",
       "      <td>352583</td>\n",
       "      <td>290437</td>\n",
       "      <td>96652</td>\n",
       "      <td>96995</td>\n",
       "      <td>29915</td>\n",
       "    </tr>\n",
       "    <tr>\n",
       "      <th>7</th>\n",
       "      <td>Apple</td>\n",
       "      <td>AAPL</td>\n",
       "      <td>2022</td>\n",
       "      <td>352755</td>\n",
       "      <td>302083</td>\n",
       "      <td>88531</td>\n",
       "      <td>99803</td>\n",
       "      <td>26251</td>\n",
       "    </tr>\n",
       "    <tr>\n",
       "      <th>8</th>\n",
       "      <td>Apple</td>\n",
       "      <td>AAPL</td>\n",
       "      <td>2021</td>\n",
       "      <td>351002</td>\n",
       "      <td>287912</td>\n",
       "      <td>95249</td>\n",
       "      <td>94680</td>\n",
       "      <td>21914</td>\n",
       "    </tr>\n",
       "  </tbody>\n",
       "</table>\n",
       "</div>"
      ],
      "text/plain": [
       "     Company Symbol  Year Total Assets Total Liabilities Total Revenue  \\\n",
       "0      Tesla   TSLA  2023      106618             43009         96773    \n",
       "1      Tesla   TSLA  2022       82338             36440         81462    \n",
       "2      Tesla   TSLA  2021       62131             30548         53823    \n",
       "3  Microsoft   MSFT  2023      411976            205753        211915    \n",
       "4  Microsoft   MSFT  2022      364840            198298        198270    \n",
       "5  Microsoft   MSFT  2021      333779            191791        168088    \n",
       "6      Apple   AAPL  2023       352583            290437        96652    \n",
       "7      Apple   AAPL  2022       352755            302083        88531    \n",
       "8      Apple   AAPL  2021       351002            287912        95249    \n",
       "\n",
       "  Net Income Gross Profit  \n",
       "0     14974        17660   \n",
       "1     12587        17660   \n",
       "2      5644        13606   \n",
       "3     72361        27195   \n",
       "4     72738        24512   \n",
       "5     61271        20716   \n",
       "6     96995        29915   \n",
       "7     99803        26251   \n",
       "8     94680        21914   "
      ]
     },
     "execution_count": 15,
     "metadata": {},
     "output_type": "execute_result"
    }
   ],
   "source": [
    "df"
   ]
  },
  {
   "cell_type": "markdown",
   "id": "0bd6b8d2",
   "metadata": {},
   "source": [
    "## Analyzing trends with pandas"
   ]
  },
  {
   "cell_type": "code",
   "execution_count": 26,
   "id": "73f9fc9c",
   "metadata": {},
   "outputs": [
    {
     "data": {
      "text/plain": [
       "Company              object\n",
       "Symbol               object\n",
       "Year                  int64\n",
       "Total Assets          int64\n",
       "Total Liabilities     int64\n",
       "Total Revenue         int64\n",
       "Net Income            int64\n",
       "Gross Profit          int64\n",
       "dtype: object"
      ]
     },
     "execution_count": 26,
     "metadata": {},
     "output_type": "execute_result"
    }
   ],
   "source": [
    "df.dtypes"
   ]
  },
  {
   "cell_type": "code",
   "execution_count": 8,
   "id": "75551950",
   "metadata": {},
   "outputs": [],
   "source": [
    "df['Total Revenue'] = df['Total Revenue'].str.replace('$','')"
   ]
  },
  {
   "cell_type": "code",
   "execution_count": 12,
   "id": "2fb4e199",
   "metadata": {},
   "outputs": [],
   "source": [
    "df['Total Revenue'] = df['Total Revenue'].str.replace(',','')"
   ]
  },
  {
   "cell_type": "code",
   "execution_count": 5,
   "id": "0130ff55",
   "metadata": {},
   "outputs": [],
   "source": [
    "df['Net Income'] = df['Net Income'].str.replace(',','')"
   ]
  },
  {
   "cell_type": "code",
   "execution_count": 9,
   "id": "2023f148",
   "metadata": {},
   "outputs": [],
   "source": [
    "df['Net Income'] = df['Net Income'].str.replace('$','')"
   ]
  },
  {
   "cell_type": "code",
   "execution_count": 6,
   "id": "492604db",
   "metadata": {},
   "outputs": [],
   "source": [
    "df['Total Liabilities'] = df['Total Liabilities'].str.replace(',','')"
   ]
  },
  {
   "cell_type": "code",
   "execution_count": 7,
   "id": "efc4e851",
   "metadata": {},
   "outputs": [],
   "source": [
    "df['Gross Profit'] = df['Gross Profit'].str.replace(',','')"
   ]
  },
  {
   "cell_type": "code",
   "execution_count": 14,
   "id": "066227a0",
   "metadata": {},
   "outputs": [],
   "source": [
    "df['Total Assets'] = df['Total Assets'].str.replace(',','')"
   ]
  },
  {
   "cell_type": "markdown",
   "id": "3eaf5d7f",
   "metadata": {},
   "source": [
    "## Convert object to int"
   ]
  },
  {
   "cell_type": "code",
   "execution_count": 17,
   "id": "be6a385a",
   "metadata": {},
   "outputs": [],
   "source": [
    "df['Total Revenue'] = pd.to_numeric(df['Total Revenue'])"
   ]
  },
  {
   "cell_type": "code",
   "execution_count": 19,
   "id": "12ed45ce",
   "metadata": {},
   "outputs": [],
   "source": [
    "df['Total Assets'] = pd.to_numeric(df['Total Assets'])"
   ]
  },
  {
   "cell_type": "code",
   "execution_count": 21,
   "id": "150e1fb1",
   "metadata": {},
   "outputs": [],
   "source": [
    "df['Total Liabilities'] = pd.to_numeric(df['Total Liabilities'])"
   ]
  },
  {
   "cell_type": "code",
   "execution_count": 23,
   "id": "20c0ff49",
   "metadata": {},
   "outputs": [],
   "source": [
    "df['Net Income'] = pd.to_numeric(df['Net Income'])"
   ]
  },
  {
   "cell_type": "code",
   "execution_count": 25,
   "id": "a0af610d",
   "metadata": {},
   "outputs": [],
   "source": [
    "df['Gross Profit'] = pd.to_numeric(df['Gross Profit'])"
   ]
  },
  {
   "cell_type": "code",
   "execution_count": 27,
   "id": "3ae2b87a",
   "metadata": {},
   "outputs": [],
   "source": [
    "df['Revenue Growth (%)'] = df.groupby(['Company'])['Total Revenue'].pct_change() * 100\n",
    "df['Net Income Growth (%)'] = df.groupby(['Company'])['Net Income'].pct_change() * 100"
   ]
  },
  {
   "cell_type": "code",
   "execution_count": 36,
   "id": "3619af8b",
   "metadata": {},
   "outputs": [
    {
     "data": {
      "text/html": [
       "<div>\n",
       "<style scoped>\n",
       "    .dataframe tbody tr th:only-of-type {\n",
       "        vertical-align: middle;\n",
       "    }\n",
       "\n",
       "    .dataframe tbody tr th {\n",
       "        vertical-align: top;\n",
       "    }\n",
       "\n",
       "    .dataframe thead th {\n",
       "        text-align: right;\n",
       "    }\n",
       "</style>\n",
       "<table border=\"1\" class=\"dataframe\">\n",
       "  <thead>\n",
       "    <tr style=\"text-align: right;\">\n",
       "      <th></th>\n",
       "      <th>Company</th>\n",
       "      <th>Symbol</th>\n",
       "      <th>Year</th>\n",
       "      <th>Total Assets</th>\n",
       "      <th>Total Liabilities</th>\n",
       "      <th>Total Revenue</th>\n",
       "      <th>Net Income</th>\n",
       "      <th>Gross Profit</th>\n",
       "      <th>Revenue Growth (%)</th>\n",
       "      <th>Net Income Growth (%)</th>\n",
       "    </tr>\n",
       "  </thead>\n",
       "  <tbody>\n",
       "    <tr>\n",
       "      <th>0</th>\n",
       "      <td>Tesla</td>\n",
       "      <td>TSLA</td>\n",
       "      <td>2023</td>\n",
       "      <td>106618</td>\n",
       "      <td>43009</td>\n",
       "      <td>96773</td>\n",
       "      <td>14974</td>\n",
       "      <td>17660</td>\n",
       "      <td>0.000000</td>\n",
       "      <td>0.000000</td>\n",
       "    </tr>\n",
       "    <tr>\n",
       "      <th>1</th>\n",
       "      <td>Tesla</td>\n",
       "      <td>TSLA</td>\n",
       "      <td>2022</td>\n",
       "      <td>82338</td>\n",
       "      <td>36440</td>\n",
       "      <td>81462</td>\n",
       "      <td>12587</td>\n",
       "      <td>17660</td>\n",
       "      <td>-15.821562</td>\n",
       "      <td>-15.940964</td>\n",
       "    </tr>\n",
       "    <tr>\n",
       "      <th>2</th>\n",
       "      <td>Tesla</td>\n",
       "      <td>TSLA</td>\n",
       "      <td>2021</td>\n",
       "      <td>62131</td>\n",
       "      <td>30548</td>\n",
       "      <td>53823</td>\n",
       "      <td>5644</td>\n",
       "      <td>13606</td>\n",
       "      <td>-33.928703</td>\n",
       "      <td>-55.160086</td>\n",
       "    </tr>\n",
       "    <tr>\n",
       "      <th>3</th>\n",
       "      <td>Microsoft</td>\n",
       "      <td>MSFT</td>\n",
       "      <td>2023</td>\n",
       "      <td>411976</td>\n",
       "      <td>205753</td>\n",
       "      <td>211915</td>\n",
       "      <td>72361</td>\n",
       "      <td>27195</td>\n",
       "      <td>0.000000</td>\n",
       "      <td>0.000000</td>\n",
       "    </tr>\n",
       "    <tr>\n",
       "      <th>4</th>\n",
       "      <td>Microsoft</td>\n",
       "      <td>MSFT</td>\n",
       "      <td>2022</td>\n",
       "      <td>364840</td>\n",
       "      <td>198298</td>\n",
       "      <td>198270</td>\n",
       "      <td>72738</td>\n",
       "      <td>24512</td>\n",
       "      <td>-6.438902</td>\n",
       "      <td>0.520999</td>\n",
       "    </tr>\n",
       "    <tr>\n",
       "      <th>5</th>\n",
       "      <td>Microsoft</td>\n",
       "      <td>MSFT</td>\n",
       "      <td>2021</td>\n",
       "      <td>333779</td>\n",
       "      <td>191791</td>\n",
       "      <td>168088</td>\n",
       "      <td>61271</td>\n",
       "      <td>20716</td>\n",
       "      <td>-15.222676</td>\n",
       "      <td>-15.764800</td>\n",
       "    </tr>\n",
       "    <tr>\n",
       "      <th>6</th>\n",
       "      <td>Apple</td>\n",
       "      <td>AAPL</td>\n",
       "      <td>2023</td>\n",
       "      <td>352583</td>\n",
       "      <td>290437</td>\n",
       "      <td>96652</td>\n",
       "      <td>96995</td>\n",
       "      <td>29915</td>\n",
       "      <td>0.000000</td>\n",
       "      <td>0.000000</td>\n",
       "    </tr>\n",
       "    <tr>\n",
       "      <th>7</th>\n",
       "      <td>Apple</td>\n",
       "      <td>AAPL</td>\n",
       "      <td>2022</td>\n",
       "      <td>352755</td>\n",
       "      <td>302083</td>\n",
       "      <td>88531</td>\n",
       "      <td>99803</td>\n",
       "      <td>26251</td>\n",
       "      <td>-8.402309</td>\n",
       "      <td>2.894995</td>\n",
       "    </tr>\n",
       "    <tr>\n",
       "      <th>8</th>\n",
       "      <td>Apple</td>\n",
       "      <td>AAPL</td>\n",
       "      <td>2021</td>\n",
       "      <td>351002</td>\n",
       "      <td>287912</td>\n",
       "      <td>95249</td>\n",
       "      <td>94680</td>\n",
       "      <td>21914</td>\n",
       "      <td>7.588302</td>\n",
       "      <td>-5.133112</td>\n",
       "    </tr>\n",
       "  </tbody>\n",
       "</table>\n",
       "</div>"
      ],
      "text/plain": [
       "     Company Symbol  Year  Total Assets  Total Liabilities  Total Revenue  \\\n",
       "0      Tesla   TSLA  2023        106618              43009          96773   \n",
       "1      Tesla   TSLA  2022         82338              36440          81462   \n",
       "2      Tesla   TSLA  2021         62131              30548          53823   \n",
       "3  Microsoft   MSFT  2023        411976             205753         211915   \n",
       "4  Microsoft   MSFT  2022        364840             198298         198270   \n",
       "5  Microsoft   MSFT  2021        333779             191791         168088   \n",
       "6      Apple   AAPL  2023        352583             290437          96652   \n",
       "7      Apple   AAPL  2022        352755             302083          88531   \n",
       "8      Apple   AAPL  2021        351002             287912          95249   \n",
       "\n",
       "   Net Income  Gross Profit  Revenue Growth (%)  Net Income Growth (%)  \n",
       "0       14974         17660            0.000000               0.000000  \n",
       "1       12587         17660          -15.821562             -15.940964  \n",
       "2        5644         13606          -33.928703             -55.160086  \n",
       "3       72361         27195            0.000000               0.000000  \n",
       "4       72738         24512           -6.438902               0.520999  \n",
       "5       61271         20716          -15.222676             -15.764800  \n",
       "6       96995         29915            0.000000               0.000000  \n",
       "7       99803         26251           -8.402309               2.894995  \n",
       "8       94680         21914            7.588302              -5.133112  "
      ]
     },
     "execution_count": 36,
     "metadata": {},
     "output_type": "execute_result"
    }
   ],
   "source": [
    "df"
   ]
  },
  {
   "cell_type": "markdown",
   "id": "1a588abb",
   "metadata": {},
   "source": [
    "## Replaced NaNs with 0"
   ]
  },
  {
   "cell_type": "code",
   "execution_count": 33,
   "id": "d5007f76",
   "metadata": {},
   "outputs": [],
   "source": [
    "df['Revenue Growth (%)'] = df['Revenue Growth (%)'].fillna(0)"
   ]
  },
  {
   "cell_type": "code",
   "execution_count": 35,
   "id": "2e812c61",
   "metadata": {},
   "outputs": [],
   "source": [
    "df['Net Income Growth (%)'] = df['Net Income Growth (%)'].fillna(0)"
   ]
  },
  {
   "cell_type": "code",
   "execution_count": 37,
   "id": "8133cc32",
   "metadata": {},
   "outputs": [
    {
     "data": {
      "text/plain": [
       "Company\n",
       "Apple        280432\n",
       "Microsoft    578273\n",
       "Tesla        232058\n",
       "Name: Total Revenue, dtype: int64"
      ]
     },
     "execution_count": 37,
     "metadata": {},
     "output_type": "execute_result"
    }
   ],
   "source": [
    "# Group by 'Company' and sum the 'Total Revenue'\n",
    "total_revenue_by_company = df.groupby('Company')['Total Revenue'].sum()\n",
    "total_revenue_by_company"
   ]
  },
  {
   "cell_type": "code",
   "execution_count": null,
   "id": "c3979052",
   "metadata": {},
   "outputs": [],
   "source": [
    "# The total revenue by Microsoft has jumped within the past 3 fiscal years from 2021-2023\n",
    "# There has been a substantial increase in total revenue and gross profit for Microsoft\n",
    "# Apple saw a significant net income growth from 2021-2022\n",
    "# Microsoft net income growth stayed the same \n",
    "# Apple's gross profit was high at 2023 outperforming Microsoft and Tesla"
   ]
  },
  {
   "cell_type": "code",
   "execution_count": 1,
   "id": "74443615",
   "metadata": {},
   "outputs": [],
   "source": [
    "def simple_chatbot(user_query):\n",
    "   if user_query == \"What is the total revenue?\":\n",
    "       return \"The total revenue is [amount].\"\n",
    "   elif user_query == \"How has net income changed over the last year?\":\n",
    "       return \"The net income has [increased/decreased] by [amount] over the last year.\"\n",
    "   # Add more conditions for other predefined queries\n",
    "   else:\n",
    "       return \"Sorry, I can only provide information on predefined queries.\""
   ]
  },
  {
   "cell_type": "code",
   "execution_count": 2,
   "id": "a8c872ed",
   "metadata": {},
   "outputs": [
    {
     "data": {
      "text/plain": [
       "'The total revenue is [amount].'"
      ]
     },
     "execution_count": 2,
     "metadata": {},
     "output_type": "execute_result"
    }
   ],
   "source": [
    "query = 'What is the total revenue?'\n",
    "simple_chatbot(query)"
   ]
  },
  {
   "cell_type": "code",
   "execution_count": 3,
   "id": "1a162ec6",
   "metadata": {},
   "outputs": [
    {
     "data": {
      "text/plain": [
       "'Sorry, I can only provide information on predefined queries.'"
      ]
     },
     "execution_count": 3,
     "metadata": {},
     "output_type": "execute_result"
    }
   ],
   "source": [
    "query = 'How has the net income changed over the last year?'\n",
    "simple_chatbot(query)"
   ]
  },
  {
   "cell_type": "code",
   "execution_count": 4,
   "id": "ba26a4ff",
   "metadata": {},
   "outputs": [
    {
     "data": {
      "text/plain": [
       "'Sorry, I can only provide information on predefined queries.'"
      ]
     },
     "execution_count": 4,
     "metadata": {},
     "output_type": "execute_result"
    }
   ],
   "source": [
    "query = 'What is the current stock price?'\n",
    "simple_chatbot(query)"
   ]
  },
  {
   "cell_type": "code",
   "execution_count": 5,
   "id": "4f7f37cd",
   "metadata": {},
   "outputs": [
    {
     "data": {
      "text/plain": [
       "'Sorry, I can only provide information on predefined queries.'"
      ]
     },
     "execution_count": 5,
     "metadata": {},
     "output_type": "execute_result"
    }
   ],
   "source": [
    "query = 'What was the net income growth of Apple from 2022-2023?'\n",
    "simple_chatbot(query)"
   ]
  },
  {
   "cell_type": "markdown",
   "id": "b7d37110",
   "metadata": {},
   "source": [
    "This chatbot is a simple Python script designed to answer predefined financial queries. It uses logical if-else statements to match the user input with predefined questions that would return appropriate responses based on the financial data provided.\n",
    "\n",
    "Functionality: The chatbot is configured to respond to specific financial queries such as 'What is the total revenue?' or 'How has the net income changed over the last year?' It relies on the financial data above loaded into the script, such as net income, gross profit, revenue growth %, and net income growth %. \n",
    "\n",
    "Limitations: The chatbot is limited to answering only the queries it has been explicitly programmed to handle. It cannot generate responses outside of this scope. It is also depended on the data above and how accurate the responses are.\n",
    "\n",
    "Conclusion: This chatbot is a simple effective tool for answering specific financial queries based on predefined conditions. While there are limitations in flexibility, it serves as a useful prototype for more complex financial chatbot applications. "
   ]
  },
  {
   "cell_type": "code",
   "execution_count": null,
   "id": "13011bd5",
   "metadata": {},
   "outputs": [],
   "source": []
  }
 ],
 "metadata": {
  "kernelspec": {
   "display_name": "Python 3 (ipykernel)",
   "language": "python",
   "name": "python3"
  },
  "language_info": {
   "codemirror_mode": {
    "name": "ipython",
    "version": 3
   },
   "file_extension": ".py",
   "mimetype": "text/x-python",
   "name": "python",
   "nbconvert_exporter": "python",
   "pygments_lexer": "ipython3",
   "version": "3.11.5"
  }
 },
 "nbformat": 4,
 "nbformat_minor": 5
}
